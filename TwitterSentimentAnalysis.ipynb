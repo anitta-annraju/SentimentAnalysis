{
 "cells": [
  {
   "cell_type": "code",
   "execution_count": 1,
   "id": "ec0ac188",
   "metadata": {},
   "outputs": [],
   "source": [
    "# Import Libraries\n",
    "\n",
    "from textblob import TextBlob\n",
    "import sys\n",
    "import tweepy\n",
    "import matplotlib.pyplot as plt"
   ]
  },
  {
   "cell_type": "code",
   "execution_count": 2,
   "id": "95d94be0",
   "metadata": {},
   "outputs": [],
   "source": [
    "# Authenticating Twitter APIs\n",
    "\n",
    "consumerKey = 'HCuB1UuD9heAdoWsCVuLnsblG'\n",
    "consumerSecret = 'rONrnsWQFqLPNNAakJUTjt7RXEvZJ3TfKARLC8LZNtNcUzKJKZ'\n",
    "accessToken = '1360126526486839297-IARMxAWh6bzlILHhob33uJxVtJgY56'\n",
    "accessTokenSecret = 'f1CnP4YpKJdAUbGHPpAkBGEvPXbU6IfxsPRR08l9GTt1A'\n",
    "\n",
    "\n",
    "auth = tweepy.OAuthHandler(consumerKey, consumerSecret)\n",
    "auth.set_access_token(accessToken, accessTokenSecret)\n",
    "api = tweepy.API(auth)"
   ]
  },
  {
   "cell_type": "code",
   "execution_count": 3,
   "id": "7fba53c2",
   "metadata": {},
   "outputs": [
    {
     "name": "stdout",
     "output_type": "stream",
     "text": [
      "Enter the Keyword: school\n"
     ]
    }
   ],
   "source": [
    "#Sentiment Analysis\n",
    "\n",
    "def percentage(part,whole):\n",
    "    return 100 * float(part)/float(whole) \n",
    "\n",
    "keyword = input(\"Enter the Keyword: \")\n",
    "\n",
    "noOfTweet = 100\n",
    "tweets = tweepy.Cursor(api.search, q=keyword).items(noOfTweet)\n",
    "\n",
    "positive  = 0\n",
    "negative = 0\n",
    "neutral = 0\n",
    "polarity = 0\n",
    "\n",
    "for tweet in tweets:\n",
    "    #print(tweet.text)\n",
    "    analysis = TextBlob(tweet.text)\n",
    "    polarity += analysis.sentiment.polarity\n",
    "    \n",
    "    asp = analysis.sentiment.polarity\n",
    "    \n",
    "    if (asp == 0):\n",
    "        neutral += 1\n",
    "        \n",
    "    \n",
    "    elif (asp < 0.00):\n",
    "        negative += 1\n",
    "       \n",
    "    \n",
    "    elif (asp > 0.00):\n",
    "        positive += 1\n",
    "        \n",
    "\n",
    "positive = percentage(positive, noOfTweet)\n",
    "negative = percentage(negative, noOfTweet)\n",
    "neutral = percentage(neutral, noOfTweet)\n",
    "polarity = percentage(polarity, noOfTweet)\n",
    "\n",
    "positive = format(positive, '.1f')\n",
    "negative = format(negative, '.1f')\n",
    "neutral = format(neutral, '.1f')"
   ]
  },
  {
   "cell_type": "code",
   "execution_count": 4,
   "id": "f7272745",
   "metadata": {},
   "outputs": [
    {
     "name": "stdout",
     "output_type": "stream",
     "text": [
      "The Sentiment associated with the keyword school is:\n",
      "Positive by 48.0%\n",
      "Negative by 15.0%\n",
      "Neutral by 37.0%\n"
     ]
    }
   ],
   "source": [
    "# Output in text format\n",
    "\n",
    "'''if (positive > negative) and (positive > neutral):\n",
    "    print(\"The Sentiment associated with the keyword \",keyword,\" is Positive by \",positive,\"%\",sep=\"\")\n",
    "elif (negative > positive) and (negative > neutral):\n",
    "    print(\"The Sentiment associated with the keyword \",keyword,\" is Negative by \",negative,\"%\",sep=\"\")\n",
    "else:\n",
    "    print(\"The Sentiment associated with the keyword \",keyword,\" is Neutral by \",neutral,\"%\",sep=\"\")\n",
    "'''\n",
    "\n",
    "print(\"The Sentiment associated with the keyword \",keyword,\" is:\\nPositive by \",positive,\"%\",sep=\"\")\n",
    "print(\"Negative by \",negative,\"%\",sep=\"\")\n",
    "print(\"Neutral by \",neutral,\"%\",sep=\"\")"
   ]
  },
  {
   "cell_type": "code",
   "execution_count": 5,
   "id": "81148be3",
   "metadata": {},
   "outputs": [
    {
     "data": {
      "image/png": "[encoded data removed]",
      "text/plain": [
       "<Figure size 432x288 with 1 Axes>"
      ]
     },
     "metadata": {},
     "output_type": "display_data"
    }
   ],
   "source": [
    "# Output in piechart format\n",
    "\n",
    "labels = ['Positive ['+str(positive)+'%]' , 'Neutral ['+str(neutral)+'%]','Negative ['+str(negative)+'%]']\n",
    "sizes = [positive, neutral, negative]\n",
    "colors = ['yellowgreen', 'gold','red']\n",
    "\n",
    "patches, texts = plt.pie(sizes,colors=colors, startangle=90)\n",
    "plt.style.use('default')\n",
    "plt.legend(patches, labels, loc='best')\n",
    "plt.title(\"Sentiment Analysis Result for keyword=  \"+keyword+\"\" )\n",
    "plt.axis('equal')\n",
    "plt.show()"
   ]
  }
 ],
 "metadata": {
  "kernelspec": {
   "display_name": "Python 3",
   "language": "python",
   "name": "python3"
  },
  "language_info": {
   "codemirror_mode": {
    "name": "ipython",
    "version": 3
   },
   "file_extension": ".py",
   "mimetype": "text/x-python",
   "name": "python",
   "nbconvert_exporter": "python",
   "pygments_lexer": "ipython3",
   "version": "3.8.5"
  }
 },
 "nbformat": 4,
 "nbformat_minor": 5
}
